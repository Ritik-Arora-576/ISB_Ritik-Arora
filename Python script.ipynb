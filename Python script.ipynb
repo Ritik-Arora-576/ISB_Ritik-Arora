{
  "nbformat": 4,
  "nbformat_minor": 0,
  "metadata": {
    "colab": {
      "name": "Untitled1.ipynb",
      "provenance": []
    },
    "kernelspec": {
      "name": "python3",
      "display_name": "Python 3"
    },
    "language_info": {
      "name": "python"
    },
    "accelerator": "GPU"
  },
  "cells": [
    {
      "cell_type": "code",
      "source": [
        "#import libraries\n",
        "import numpy as np\n",
        "import pandas as pd\n",
        "import camelot"
      ],
      "metadata": {
        "id": "mprZnWXMFL75"
      },
      "execution_count": 70,
      "outputs": []
    },
    {
      "cell_type": "code",
      "source": [
        "# enter into the directory where our pdf has been stored\n",
        "%cd drive/MyDrive/Dataset"
      ],
      "metadata": {
        "colab": {
          "base_uri": "https://localhost:8080/"
        },
        "id": "g22WnzeAerE0",
        "outputId": "9e60dca4-9327-4702-a5bf-510ca2d89ae0"
      },
      "execution_count": 12,
      "outputs": [
        {
          "output_type": "stream",
          "name": "stdout",
          "text": [
            "/content/drive/MyDrive/Dataset\n"
          ]
        }
      ]
    },
    {
      "cell_type": "code",
      "source": [
        "file='chittoor.pdf'\n",
        "# read and store tables from pdf file\n",
        "tables = camelot.read_pdf(file ,pages=\"all\",flavor='stream')"
      ],
      "metadata": {
        "id": "-kwA3H-yFhxd",
        "colab": {
          "base_uri": "https://localhost:8080/"
        },
        "outputId": "5a43e4f7-14be-473c-97ae-e7731e7d5aed"
      },
      "execution_count": 52,
      "outputs": [
        {
          "output_type": "stream",
          "name": "stderr",
          "text": [
            "UserWarning: No tables found in table area 1 [stream.py:365]\n",
            "UserWarning: No tables found in table area 2 [stream.py:365]\n"
          ]
        }
      ]
    },
    {
      "cell_type": "code",
      "source": [
        "# store data of tables into numpy array\n",
        "def store_data(table_df):\n",
        "  k=0\n",
        "  table=np.array(table_df)\n",
        "  # iterate over all rows of the table\n",
        "  for row in table:\n",
        "    if(len(row[0].split('.'))==2):\n",
        "      string=row[0].split('.')[-1]\n",
        "      list=['Andhra Pradesh','Chittoor',indicator_category[k],string,row[1],row[2]]\n",
        "      data.append(list)\n",
        "      k+=1\n",
        "    \n",
        "    elif(len(row[0].split('.'))>=2) and len(row[0].split('.')[0])<=3:\n",
        "      string=\"\"\n",
        "      for i in row[0].split('.')[1:]:\n",
        "        string+=i\n",
        "        string+='.'\n",
        "      string=string[:-1]\n",
        "      list=['Andhra Pradesh','Chittoor',indicator_category[k],string,row[1],row[2]]\n",
        "      data.append(list)\n",
        "      k+=1"
      ],
      "metadata": {
        "id": "mLJIPn_mGDTH"
      },
      "execution_count": 135,
      "outputs": []
    },
    {
      "cell_type": "code",
      "source": [
        "# columns of a dataframe\n",
        "columns=['state_name','district_name','indicator_category','indicator','nfhs5_2019_20','nfhs4_2015_16']\n",
        "\n",
        "# initialize and store indicator category\n",
        "indicator_category=[]\n",
        "for i in range(1,14):\n",
        "  indicator_category.append('Population and Household Profile')\n",
        "for i in range(14,16):\n",
        "  indicator_category.append('Characteristics of Women (age 15-49 years)')\n",
        "for i in range(16,20):\n",
        "  indicator_category.append('Marriage and Fertility')\n",
        "for i in range(20,28):\n",
        "  indicator_category.append('Current Use of Family Planning Methods (currently married women age 15–49 years)')\n",
        "for i in range(28,30):\n",
        "  indicator_category.append('Unmet Need for Family Planning (currently married women age 15–49 years)')\n",
        "for i in range(30,32):\n",
        "  indicator_category.append('Quality of Family Planning Services')\n",
        "for i in range(32,42):\n",
        "  indicator_category.append('Maternal and Child Health')\n",
        "for i in range(42,49):\n",
        "  indicator_category.append('Delivery Care (for births in the 5 years before the survey)')\n",
        "for i in range(49,61):\n",
        "  indicator_category.append('Child Vaccinations and Vitamin A Supplementation')\n",
        "for i in range(61,67):\n",
        "  indicator_category.append('Treatment of Childhood Diseases (children under age 5 years)')\n",
        "for i in range(67,78):\n",
        "  indicator_category.append('Child Feeding Practices and Nutritional Status of Children')\n",
        "for i in range(78,81):\n",
        "  indicator_category.append('Nutritional Status of Women (age 15-49 years)')\n",
        "for i in range(81,86):\n",
        "  indicator_category.append('Anaemia among Children and Women')\n",
        "for i in range(86,89):\n",
        "  indicator_category.append('Blood Sugar Level among Adults (age 15 years and above)-Women')\n",
        "for i in range(89,92):\n",
        "  indicator_category.append('Blood Sugar Level among Adults (age 15 years and above)-Men')\n",
        "for i in range(92,95):\n",
        "  indicator_category.append('Hypertension among Adults (age 15 years and above)-Women')\n",
        "for i in range(95,98):\n",
        "  indicator_category.append('Hypertension among Adults (age 15 years and above)-Men')\n",
        "for i in range(98,101):\n",
        "  indicator_category.append('Screening for Cancer among Women (age 30-49 years)')\n",
        "for i in range(101,105):\n",
        "  indicator_category.append('Tobacco Use and Alcohol Consumption among Adults (age 15 years and above)')\n",
        "\n",
        "# contain index values of each row of a table\n",
        "index=np.arange(1,105)"
      ],
      "metadata": {
        "id": "LTpQby7nzglA"
      },
      "execution_count": 140,
      "outputs": []
    },
    {
      "cell_type": "code",
      "source": [
        "# data is a numpy array which stores all entries of the tables\n",
        "data=[]\n",
        "for i in range(len(tables)):\n",
        "  if i==2 or i==4 or i==6:\n",
        "    store_data(tables[i].df)"
      ],
      "metadata": {
        "id": "PiEYkQ9JGmgc"
      },
      "execution_count": 136,
      "outputs": []
    },
    {
      "cell_type": "code",
      "source": [
        "# convert numpy array into dataframe where indexing has been start from 1\n",
        "df=pd.DataFrame(data,columns=columns,index=index)"
      ],
      "metadata": {
        "id": "S84mWVpdKKW2"
      },
      "execution_count": 142,
      "outputs": []
    },
    {
      "cell_type": "code",
      "source": [
        "df  # visualize a dataframe which has been created"
      ],
      "metadata": {
        "colab": {
          "base_uri": "https://localhost:8080/",
          "height": 423
        },
        "id": "wFjXe6p-ezhg",
        "outputId": "e982bf2e-cea3-4e54-9570-04453466b7bd"
      },
      "execution_count": 144,
      "outputs": [
        {
          "output_type": "execute_result",
          "data": {
            "text/html": [
              "<div>\n",
              "<style scoped>\n",
              "    .dataframe tbody tr th:only-of-type {\n",
              "        vertical-align: middle;\n",
              "    }\n",
              "\n",
              "    .dataframe tbody tr th {\n",
              "        vertical-align: top;\n",
              "    }\n",
              "\n",
              "    .dataframe thead th {\n",
              "        text-align: right;\n",
              "    }\n",
              "</style>\n",
              "<table border=\"1\" class=\"dataframe\">\n",
              "  <thead>\n",
              "    <tr style=\"text-align: right;\">\n",
              "      <th></th>\n",
              "      <th>state_name</th>\n",
              "      <th>district_name</th>\n",
              "      <th>indicator_category</th>\n",
              "      <th>indicator</th>\n",
              "      <th>nfhs5_2019_20</th>\n",
              "      <th>nfhs4_2015_16</th>\n",
              "    </tr>\n",
              "  </thead>\n",
              "  <tbody>\n",
              "    <tr>\n",
              "      <th>1</th>\n",
              "      <td>Andhra Pradesh</td>\n",
              "      <td>Chittoor</td>\n",
              "      <td>Population and Household Profile</td>\n",
              "      <td>Female population age 6 years and above who e...</td>\n",
              "      <td>65.6</td>\n",
              "      <td>65.0</td>\n",
              "    </tr>\n",
              "    <tr>\n",
              "      <th>2</th>\n",
              "      <td>Andhra Pradesh</td>\n",
              "      <td>Chittoor</td>\n",
              "      <td>Population and Household Profile</td>\n",
              "      <td>Population below age 15 years (%)</td>\n",
              "      <td>22.6</td>\n",
              "      <td>23.4</td>\n",
              "    </tr>\n",
              "    <tr>\n",
              "      <th>3</th>\n",
              "      <td>Andhra Pradesh</td>\n",
              "      <td>Chittoor</td>\n",
              "      <td>Population and Household Profile</td>\n",
              "      <td>Sex ratio of the total population (females pe...</td>\n",
              "      <td>1,024</td>\n",
              "      <td>1,079</td>\n",
              "    </tr>\n",
              "    <tr>\n",
              "      <th>4</th>\n",
              "      <td>Andhra Pradesh</td>\n",
              "      <td>Chittoor</td>\n",
              "      <td>Population and Household Profile</td>\n",
              "      <td>Sex ratio at birth for children born in the l...</td>\n",
              "      <td>1,019</td>\n",
              "      <td>1,168</td>\n",
              "    </tr>\n",
              "    <tr>\n",
              "      <th>5</th>\n",
              "      <td>Andhra Pradesh</td>\n",
              "      <td>Chittoor</td>\n",
              "      <td>Population and Household Profile</td>\n",
              "      <td>Children under age 5 years whose birth was re...</td>\n",
              "      <td>94.7</td>\n",
              "      <td>86.4</td>\n",
              "    </tr>\n",
              "    <tr>\n",
              "      <th>...</th>\n",
              "      <td>...</td>\n",
              "      <td>...</td>\n",
              "      <td>...</td>\n",
              "      <td>...</td>\n",
              "      <td>...</td>\n",
              "      <td>...</td>\n",
              "    </tr>\n",
              "    <tr>\n",
              "      <th>100</th>\n",
              "      <td>Andhra Pradesh</td>\n",
              "      <td>Chittoor</td>\n",
              "      <td>Maternal and Child Health</td>\n",
              "      <td>Ever undergone an oral cavity examination for...</td>\n",
              "      <td>4.0</td>\n",
              "      <td>na</td>\n",
              "    </tr>\n",
              "    <tr>\n",
              "      <th>101</th>\n",
              "      <td>Andhra Pradesh</td>\n",
              "      <td>Chittoor</td>\n",
              "      <td>Maternal and Child Health</td>\n",
              "      <td>Women age 15 years and above who use any kind...</td>\n",
              "      <td>4.3</td>\n",
              "      <td>na</td>\n",
              "    </tr>\n",
              "    <tr>\n",
              "      <th>102</th>\n",
              "      <td>Andhra Pradesh</td>\n",
              "      <td>Chittoor</td>\n",
              "      <td>Maternal and Child Health</td>\n",
              "      <td>Men age 15 years and above who use any kind o...</td>\n",
              "      <td>18.7</td>\n",
              "      <td>na</td>\n",
              "    </tr>\n",
              "    <tr>\n",
              "      <th>103</th>\n",
              "      <td>Andhra Pradesh</td>\n",
              "      <td>Chittoor</td>\n",
              "      <td>Maternal and Child Health</td>\n",
              "      <td>Women age 15 years and above who consume alco...</td>\n",
              "      <td>0.4</td>\n",
              "      <td>na</td>\n",
              "    </tr>\n",
              "    <tr>\n",
              "      <th>104</th>\n",
              "      <td>Andhra Pradesh</td>\n",
              "      <td>Chittoor</td>\n",
              "      <td>Maternal and Child Health</td>\n",
              "      <td>Men age 15 years and above who consume alcoho...</td>\n",
              "      <td>18.3</td>\n",
              "      <td>na</td>\n",
              "    </tr>\n",
              "  </tbody>\n",
              "</table>\n",
              "<p>104 rows × 6 columns</p>\n",
              "</div>"
            ],
            "text/plain": [
              "         state_name district_name  ... nfhs5_2019_20 nfhs4_2015_16\n",
              "1    Andhra Pradesh      Chittoor  ...          65.6          65.0\n",
              "2    Andhra Pradesh      Chittoor  ...          22.6          23.4\n",
              "3    Andhra Pradesh      Chittoor  ...         1,024         1,079\n",
              "4    Andhra Pradesh      Chittoor  ...         1,019         1,168\n",
              "5    Andhra Pradesh      Chittoor  ...          94.7          86.4\n",
              "..              ...           ...  ...           ...           ...\n",
              "100  Andhra Pradesh      Chittoor  ...           4.0            na\n",
              "101  Andhra Pradesh      Chittoor  ...           4.3            na\n",
              "102  Andhra Pradesh      Chittoor  ...          18.7            na\n",
              "103  Andhra Pradesh      Chittoor  ...           0.4            na\n",
              "104  Andhra Pradesh      Chittoor  ...          18.3            na\n",
              "\n",
              "[104 rows x 6 columns]"
            ]
          },
          "metadata": {},
          "execution_count": 144
        }
      ]
    },
    {
      "cell_type": "code",
      "source": [
        "# save the data into .csv format\n",
        "df.to_csv('final_data.csv')"
      ],
      "metadata": {
        "id": "zX2uE_mK0m7J"
      },
      "execution_count": 147,
      "outputs": []
    },
    {
      "cell_type": "code",
      "source": [
        ""
      ],
      "metadata": {
        "id": "fZxwqkui9mY_"
      },
      "execution_count": null,
      "outputs": []
    }
  ]
}